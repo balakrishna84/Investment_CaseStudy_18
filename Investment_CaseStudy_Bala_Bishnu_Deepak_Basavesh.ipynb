{
 "cells": [
  {
   "cell_type": "markdown",
   "metadata": {},
   "source": [
    "# Investment Case Study\n",
    "Team Members - Balakrishna, Bishnu, Deepak and Basavesh\n",
    "\n",
    "Checkpoint 1: Data Cleaning 1\n",
    "\n",
    "   1. Load the companies and rounds data (provided on the previous page) into two data frames and name them companies and rounds2 respectively.\n",
    "   \n",
    "   2. Table 1.1: The table below is just for reference — you need to fill out the spreadsheet which is attached in the download section. This holds true for all the tables."
   ]
  },
  {
   "cell_type": "code",
   "execution_count": null,
   "metadata": {},
   "outputs": [],
   "source": [
    "# Supress Warnings\n",
    "\n",
    "import warnings\n",
    "warnings.filterwarnings('ignore')"
   ]
  },
  {
   "cell_type": "code",
   "execution_count": null,
   "metadata": {},
   "outputs": [],
   "source": [
    "# Import the numpy and pandas packages\n",
    "\n",
    "import numpy as np\n",
    "import pandas as pd"
   ]
  },
  {
   "cell_type": "code",
   "execution_count": null,
   "metadata": {},
   "outputs": [],
   "source": [
    "# Loading first data fromes using pandas import function.\n",
    "# Companies.txt takes tab as seperate\n",
    "# using encoding to consider european standard charsets if any and refiltering to remove encoding issue\n",
    "companies = pd.read_csv('companies.txt' , sep='\t', encoding = \"ISO-8859-1\")\n",
    "companies['permalink']=companies.permalink.str.encode('utf-8').str.decode('ascii','ignore')\n",
    "companies['name']=companies.name.str.encode('utf-8').str.decode('ascii','ignore')\n",
    "companies"
   ]
  },
  {
   "cell_type": "code",
   "execution_count": null,
   "metadata": {},
   "outputs": [],
   "source": [
    "# Loading second data fromes using pandas import function.\n",
    "# rounds2.csv takes tab as seperate\n",
    "# using encoding to consider european standard charsets if any and refiltering to remove encoding issues\n",
    "rounds2 = pd.read_csv('rounds2.csv' , sep=',', encoding = \"ISO-8859-1\")\n",
    "rounds2['company_permalink']=rounds2.company_permalink.str.encode('utf-8').str.decode('ascii','ignore')\n",
    "rounds2"
   ]
  },
  {
   "cell_type": "code",
   "execution_count": null,
   "metadata": {},
   "outputs": [],
   "source": [
    "# Result Expected\n",
    "# 1 - Unique companies in the rounds2 - 114949 rows\n",
    "rounds2.drop_duplicates(subset='company_permalink', keep='first', inplace=True)\n",
    "# Number of rows in the rounds2 frame\n",
    "results= {'Question':['How many unique companies are present in rounds2?'],'Answer':[rounds2.count(axis=0).head(1)]}\n",
    "result_table=pd.DataFrame(results)\n",
    "result_table\n"
   ]
  },
  {
   "cell_type": "code",
   "execution_count": null,
   "metadata": {},
   "outputs": [],
   "source": [
    "# 1 - Unique companies in the compannies -  rows\n",
    "companies.drop_duplicates(subset='permalink', keep='first', inplace=True)\n",
    "# Number of rows in the companies frame\n",
    "results2= {'Question':['How many unique companies are present in companies?'],'Answer':[companies.count(axis=0).head(1)]}\n",
    "results2_table=pd.DataFrame(results2)\n",
    "result_table=result_table.append(results2_table)\n",
    "result_table"
   ]
  },
  {
   "cell_type": "code",
   "execution_count": null,
   "metadata": {},
   "outputs": [],
   "source": [
    "# Unique key for companies dataframe can be permalink column\n",
    "companies.permalink.unique()\n",
    "results3= {'Question':['Which column can be used as unique key for each company?'],'Answer':['permalink']}\n",
    "results3_table=pd.DataFrame(results3)\n",
    "result_table=result_table.append(results3_table)\n",
    "result_table"
   ]
  },
  {
   "cell_type": "code",
   "execution_count": null,
   "metadata": {},
   "outputs": [],
   "source": [
    "#Yes, There are companies that are in rounds2 frome but not in companies\n",
    "rounds2[~rounds2.isin(companies)].dropna(inplace=False)"
   ]
  },
  {
   "cell_type": "code",
   "execution_count": null,
   "metadata": {},
   "outputs": [],
   "source": [
    "results4= {'Question':['Are there companies in rounds2 which are not in companies?'],'Answer':['Yes']}\n",
    "results4_table=pd.DataFrame(results4)\n",
    "result_table=result_table.append(results4_table)\n",
    "result_table"
   ]
  },
  {
   "cell_type": "code",
   "execution_count": null,
   "metadata": {},
   "outputs": [],
   "source": [
    "#Merging companies frome into rounds2 frame and storing it as master_frame\n",
    "master_frame=pd.concat([rounds2,companies],axis=0, ignore_index=True)\n",
    "#master_frame=pd.merge(rounds2,companies, how='left',left_on='company_permalink', right_on='permalink')\n",
    "master_frame.count()"
   ]
  },
  {
   "cell_type": "code",
   "execution_count": null,
   "metadata": {},
   "outputs": [],
   "source": [
    "master_frame['raised_amount_usd'].mean()"
   ]
  },
  {
   "cell_type": "code",
   "execution_count": null,
   "metadata": {},
   "outputs": [],
   "source": []
  }
 ],
 "metadata": {
  "kernelspec": {
   "display_name": "Python 3",
   "language": "python",
   "name": "python3"
  },
  "language_info": {
   "codemirror_mode": {
    "name": "ipython",
    "version": 3
   },
   "file_extension": ".py",
   "mimetype": "text/x-python",
   "name": "python",
   "nbconvert_exporter": "python",
   "pygments_lexer": "ipython3",
   "version": "3.6.5"
  }
 },
 "nbformat": 4,
 "nbformat_minor": 2
}
